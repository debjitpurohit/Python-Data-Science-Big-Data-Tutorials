{
 "cells": [
  {
   "cell_type": "code",
   "execution_count": 1,
   "id": "6dbcb832",
   "metadata": {},
   "outputs": [],
   "source": [
    "import json"
   ]
  },
  {
   "cell_type": "code",
   "execution_count": 6,
   "id": "7e8fb0f1",
   "metadata": {},
   "outputs": [],
   "source": [
    "a = '{\"name\": \"Bob\", \"languages\": \"English\"}'"
   ]
  },
  {
   "cell_type": "code",
   "execution_count": 2,
   "id": "eddc2f1f",
   "metadata": {},
   "outputs": [],
   "source": [
    "json_data= '''\n",
    "{\n",
    "  \"params\":\n",
    "  {\n",
    "    \"local_server\":\"True\",\n",
    "    \"local_uri\": \"mysql://root:@localhost/codingthunder\",\n",
    "    \"prod_uri\":\"mysql://root:@localhost/codingthunder\",\n",
    "    \"fb_url\":\"https://facebook.com/codingthunder\",\n",
    "    \"tw_url\":\"https://twitter.com/codingthunder\",\n",
    "    \"gh_url\": \"https://github.com/codingthunder\",\n",
    "    \"blog_name\": \"Coding Thunder\",\n",
    "    \"tag_line\": \"Heaven for programmers\",\n",
    "    \"gmail-user\":\"your-email@gmail.com\",\n",
    "    \"gmail-password\":\"gmailpassword\",\n",
    "    \"about_text\": \"Hi my name is harry and I create programming tutorials and I am a good boy\",\n",
    "    \"no_of_posts\": 3,\n",
    "    \"login_image\":\"login.svg\",\n",
    "    \"admin_user\":\"harry\",\n",
    "    \"admin_password\": \"subscribenow\"\n",
    "  }\n",
    "\n",
    "}''' \n",
    "\n",
    "\n"
   ]
  },
  {
   "cell_type": "code",
   "execution_count": 3,
   "id": "cfe93b74",
   "metadata": {},
   "outputs": [],
   "source": [
    "x= json.loads(json_data)"
   ]
  },
  {
   "cell_type": "code",
   "execution_count": 4,
   "id": "76776563",
   "metadata": {},
   "outputs": [
    {
     "data": {
      "text/plain": [
       "{'params': {'local_server': 'True',\n",
       "  'local_uri': 'mysql://root:@localhost/codingthunder',\n",
       "  'prod_uri': 'mysql://root:@localhost/codingthunder',\n",
       "  'fb_url': 'https://facebook.com/codingthunder',\n",
       "  'tw_url': 'https://twitter.com/codingthunder',\n",
       "  'gh_url': 'https://github.com/codingthunder',\n",
       "  'blog_name': 'Coding Thunder',\n",
       "  'tag_line': 'Heaven for programmers',\n",
       "  'gmail-user': 'your-email@gmail.com',\n",
       "  'gmail-password': 'gmailpassword',\n",
       "  'about_text': 'Hi my name is harry and I create programming tutorials and I am a good boy',\n",
       "  'no_of_posts': 3,\n",
       "  'login_image': 'login.svg',\n",
       "  'admin_user': 'harry',\n",
       "  'admin_password': 'subscribenow'}}"
      ]
     },
     "execution_count": 4,
     "metadata": {},
     "output_type": "execute_result"
    }
   ],
   "source": [
    "x\n"
   ]
  },
  {
   "cell_type": "code",
   "execution_count": 5,
   "id": "b194fcb4",
   "metadata": {},
   "outputs": [
    {
     "data": {
      "text/plain": [
       "{'local_server': 'True',\n",
       " 'local_uri': 'mysql://root:@localhost/codingthunder',\n",
       " 'prod_uri': 'mysql://root:@localhost/codingthunder',\n",
       " 'fb_url': 'https://facebook.com/codingthunder',\n",
       " 'tw_url': 'https://twitter.com/codingthunder',\n",
       " 'gh_url': 'https://github.com/codingthunder',\n",
       " 'blog_name': 'Coding Thunder',\n",
       " 'tag_line': 'Heaven for programmers',\n",
       " 'gmail-user': 'your-email@gmail.com',\n",
       " 'gmail-password': 'gmailpassword',\n",
       " 'about_text': 'Hi my name is harry and I create programming tutorials and I am a good boy',\n",
       " 'no_of_posts': 3,\n",
       " 'login_image': 'login.svg',\n",
       " 'admin_user': 'harry',\n",
       " 'admin_password': 'subscribenow'}"
      ]
     },
     "execution_count": 5,
     "metadata": {},
     "output_type": "execute_result"
    }
   ],
   "source": [
    "x['params']"
   ]
  },
  {
   "cell_type": "markdown",
   "id": "33600b1f",
   "metadata": {},
   "source": [
    "# write"
   ]
  },
  {
   "cell_type": "code",
   "execution_count": 7,
   "id": "41ea10d7",
   "metadata": {},
   "outputs": [],
   "source": [
    "with open('3.json','w') as f:\n",
    "    json.dump(a, f)"
   ]
  },
  {
   "cell_type": "code",
   "execution_count": 8,
   "id": "b10ef1d3",
   "metadata": {},
   "outputs": [],
   "source": [
    "with open('2.json','w') as f:\n",
    "    json.dump(x, f)"
   ]
  },
  {
   "cell_type": "markdown",
   "id": "b4f1a770",
   "metadata": {},
   "source": [
    "# Read"
   ]
  },
  {
   "cell_type": "code",
   "execution_count": 9,
   "id": "6a7726b9",
   "metadata": {},
   "outputs": [],
   "source": [
    "g= open('2.json')"
   ]
  },
  {
   "cell_type": "code",
   "execution_count": 10,
   "id": "4c883b0f",
   "metadata": {},
   "outputs": [],
   "source": [
    "data = json.loads(g.read())"
   ]
  },
  {
   "cell_type": "code",
   "execution_count": 11,
   "id": "e9a39983",
   "metadata": {},
   "outputs": [
    {
     "data": {
      "text/plain": [
       "{'params': {'local_server': 'True',\n",
       "  'local_uri': 'mysql://root:@localhost/codingthunder',\n",
       "  'prod_uri': 'mysql://root:@localhost/codingthunder',\n",
       "  'fb_url': 'https://facebook.com/codingthunder',\n",
       "  'tw_url': 'https://twitter.com/codingthunder',\n",
       "  'gh_url': 'https://github.com/codingthunder',\n",
       "  'blog_name': 'Coding Thunder',\n",
       "  'tag_line': 'Heaven for programmers',\n",
       "  'gmail-user': 'your-email@gmail.com',\n",
       "  'gmail-password': 'gmailpassword',\n",
       "  'about_text': 'Hi my name is harry and I create programming tutorials and I am a good boy',\n",
       "  'no_of_posts': 3,\n",
       "  'login_image': 'login.svg',\n",
       "  'admin_user': 'harry',\n",
       "  'admin_password': 'subscribenow'}}"
      ]
     },
     "execution_count": 11,
     "metadata": {},
     "output_type": "execute_result"
    }
   ],
   "source": [
    "data"
   ]
  },
  {
   "cell_type": "code",
   "execution_count": 12,
   "id": "bda2343c",
   "metadata": {},
   "outputs": [],
   "source": [
    "f= open('3.json')"
   ]
  },
  {
   "cell_type": "code",
   "execution_count": 13,
   "id": "fb09299b",
   "metadata": {},
   "outputs": [],
   "source": [
    "data2 = json.loads(f.read())"
   ]
  },
  {
   "cell_type": "code",
   "execution_count": 14,
   "id": "6ac87fb1",
   "metadata": {},
   "outputs": [
    {
     "data": {
      "text/plain": [
       "'{\"name\": \"Bob\", \"languages\": \"English\"}'"
      ]
     },
     "execution_count": 14,
     "metadata": {},
     "output_type": "execute_result"
    }
   ],
   "source": [
    "data2"
   ]
  },
  {
   "cell_type": "code",
   "execution_count": null,
   "id": "f02008e4",
   "metadata": {},
   "outputs": [],
   "source": []
  }
 ],
 "metadata": {
  "kernelspec": {
   "display_name": "Python 3",
   "language": "python",
   "name": "python3"
  },
  "language_info": {
   "codemirror_mode": {
    "name": "ipython",
    "version": 3
   },
   "file_extension": ".py",
   "mimetype": "text/x-python",
   "name": "python",
   "nbconvert_exporter": "python",
   "pygments_lexer": "ipython3",
   "version": "3.6.8"
  }
 },
 "nbformat": 4,
 "nbformat_minor": 5
}
