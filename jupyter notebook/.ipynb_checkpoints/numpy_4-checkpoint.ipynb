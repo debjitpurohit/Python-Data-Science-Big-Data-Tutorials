{
 "cells": [
  {
   "cell_type": "code",
   "execution_count": 1,
   "id": "310e0093",
   "metadata": {},
   "outputs": [],
   "source": [
    "import numpy as np"
   ]
  },
  {
   "cell_type": "code",
   "execution_count": 3,
   "id": "ed076995",
   "metadata": {},
   "outputs": [],
   "source": [
    "a= np.arange(6)"
   ]
  },
  {
   "cell_type": "code",
   "execution_count": 4,
   "id": "8619bf94",
   "metadata": {},
   "outputs": [
    {
     "data": {
      "text/plain": [
       "array([0, 1, 2, 3, 4, 5])"
      ]
     },
     "execution_count": 4,
     "metadata": {},
     "output_type": "execute_result"
    }
   ],
   "source": [
    "a"
   ]
  },
  {
   "cell_type": "code",
   "execution_count": 6,
   "id": "f2445751",
   "metadata": {},
   "outputs": [],
   "source": [
    "b= np.array([1,2,3,3,4,5,5,6,6,6,6,5,5,4,4,5,5,6,6,6,5,5,34,455])"
   ]
  },
  {
   "cell_type": "code",
   "execution_count": 7,
   "id": "8293d7c5",
   "metadata": {},
   "outputs": [
    {
     "data": {
      "text/plain": [
       "(24,)"
      ]
     },
     "execution_count": 7,
     "metadata": {},
     "output_type": "execute_result"
    }
   ],
   "source": [
    "b.shape"
   ]
  },
  {
   "cell_type": "code",
   "execution_count": 15,
   "id": "d16266f6",
   "metadata": {},
   "outputs": [],
   "source": [
    "br=b.reshape(4,6)"
   ]
  },
  {
   "cell_type": "code",
   "execution_count": 16,
   "id": "55633459",
   "metadata": {},
   "outputs": [
    {
     "data": {
      "text/plain": [
       "array([[  1,   2,   3,   3,   4,   5],\n",
       "       [  5,   6,   6,   6,   6,   5],\n",
       "       [  5,   4,   4,   5,   5,   6],\n",
       "       [  6,   6,   5,   5,  34, 455]])"
      ]
     },
     "execution_count": 16,
     "metadata": {},
     "output_type": "execute_result"
    }
   ],
   "source": [
    "br"
   ]
  },
  {
   "cell_type": "code",
   "execution_count": 17,
   "id": "ba7aa221",
   "metadata": {},
   "outputs": [
    {
     "data": {
      "text/plain": [
       "array([  1,   2,   3,   3,   4,   5,   5,   6,   6,   6,   6,   5,   5,\n",
       "         4,   4,   5,   5,   6,   6,   6,   5,   5,  34, 455])"
      ]
     },
     "execution_count": 17,
     "metadata": {},
     "output_type": "execute_result"
    }
   ],
   "source": [
    "b"
   ]
  },
  {
   "cell_type": "code",
   "execution_count": 18,
   "id": "ebebab40",
   "metadata": {},
   "outputs": [
    {
     "data": {
      "text/plain": [
       "array([ 0,  1,  2,  3,  4, 14, 13, 21, 20, 16, 15, 12, 11,  6,  5, 10,  9,\n",
       "        8,  7, 17, 18, 19, 22, 23], dtype=int64)"
      ]
     },
     "execution_count": 18,
     "metadata": {},
     "output_type": "execute_result"
    }
   ],
   "source": [
    "np.argsort(b)"
   ]
  },
  {
   "cell_type": "markdown",
   "id": "55988de7",
   "metadata": {},
   "source": [
    "# 0 index er element sb thke choto thn 1 index er element.........argsort mane sort hbe in index wise in axis 1 row wise"
   ]
  },
  {
   "cell_type": "code",
   "execution_count": 19,
   "id": "dc257d20",
   "metadata": {},
   "outputs": [
    {
     "data": {
      "text/plain": [
       "0"
      ]
     },
     "execution_count": 19,
     "metadata": {},
     "output_type": "execute_result"
    }
   ],
   "source": [
    "np.argmin(b)"
   ]
  },
  {
   "cell_type": "markdown",
   "id": "664e1d1a",
   "metadata": {},
   "source": [
    "# prnt index of minimum number"
   ]
  },
  {
   "cell_type": "code",
   "execution_count": 20,
   "id": "e96df6bb",
   "metadata": {},
   "outputs": [
    {
     "data": {
      "text/plain": [
       "23"
      ]
     },
     "execution_count": 20,
     "metadata": {},
     "output_type": "execute_result"
    }
   ],
   "source": [
    "np.argmax(b)"
   ]
  },
  {
   "cell_type": "markdown",
   "id": "9439f30d",
   "metadata": {},
   "source": [
    "# prnt index of max number"
   ]
  },
  {
   "cell_type": "code",
   "execution_count": 21,
   "id": "88e84904",
   "metadata": {},
   "outputs": [
    {
     "data": {
      "text/plain": [
       "array([[0, 1, 2, 3, 4, 5],\n",
       "       [0, 5, 1, 2, 3, 4],\n",
       "       [1, 2, 0, 3, 4, 5],\n",
       "       [2, 3, 0, 1, 4, 5]], dtype=int64)"
      ]
     },
     "execution_count": 21,
     "metadata": {},
     "output_type": "execute_result"
    }
   ],
   "source": [
    "np.argsort(br)"
   ]
  },
  {
   "cell_type": "code",
   "execution_count": 22,
   "id": "c06f0693",
   "metadata": {},
   "outputs": [
    {
     "data": {
      "text/plain": [
       "array([[0, 0, 0, 0, 0, 0],\n",
       "       [1, 2, 2, 2, 2, 1],\n",
       "       [2, 1, 3, 3, 1, 2],\n",
       "       [3, 3, 1, 1, 3, 3]], dtype=int64)"
      ]
     },
     "execution_count": 22,
     "metadata": {},
     "output_type": "execute_result"
    }
   ],
   "source": [
    "np.argsort(br, axis=0)"
   ]
  },
  {
   "cell_type": "code",
   "execution_count": null,
   "id": "0d7f1e7b",
   "metadata": {},
   "outputs": [],
   "source": []
  }
 ],
 "metadata": {
  "kernelspec": {
   "display_name": "Python 3",
   "language": "python",
   "name": "python3"
  },
  "language_info": {
   "codemirror_mode": {
    "name": "ipython",
    "version": 3
   },
   "file_extension": ".py",
   "mimetype": "text/x-python",
   "name": "python",
   "nbconvert_exporter": "python",
   "pygments_lexer": "ipython3",
   "version": "3.6.8"
  }
 },
 "nbformat": 4,
 "nbformat_minor": 5
}
